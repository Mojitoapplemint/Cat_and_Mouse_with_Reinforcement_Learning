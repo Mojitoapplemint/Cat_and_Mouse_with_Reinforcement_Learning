{
 "cells": [
  {
   "cell_type": "markdown",
   "metadata": {},
   "source": [
    "# Algorithm in the Paper\n",
    "\n",
    "1. Initalize $T_i, R^1_i$ and $\\eta_i$ of all $SV_i$\n",
    "2. Initialize $Q$ values for all $SV_i$ by Eq.(24)\n",
    "3. Repeat until any $s_i$ is a terminal state\n",
    "\n",
    "\t_**(For each episode):**_\n",
    "\n",
    "4. Initialize a state $s_i \\leftarrow x_0$ for all $SV_i$\n",
    "5. Repeat for each $SV_i$ \n",
    "\n",
    "\t_**(for each step of an episode):**_\n",
    "\n",
    "6. Select a control pattern $\\pi_i\\in\\Pi_i(s_i)$ based on $Q_i$ values by $SV_{i}$ (As a result, a net control pattern $\\pi$ is assigned to the DES G)\n",
    "7. Observe the occurence of event $\\sigma^{o}_{i}\\in \\sum^{o}_{i}$\n",
    "8. Acquire reward rewards $r^{1}_{i}$ and $r^{2}_{i}$\n",
    "9. Make a transition $s_{i}\\longrightarrow^{\\sigma^{o}_{i}} s'_{i}(=g_{i}(s, \\sigma^{o}_{i}))$ in $SV_{i}$\n",
    "10. Update $T_{i}(s_{i}, \\sigma^{o}_{i})$, $R^{1}_{i}(s_{i}, \\pi_{i})$, and $\\eta_{i}(s_{i}, \\sigma^{o'}_{i})$ by Eq.(21), Eq.(22), and Eq.(23) respectively\n",
    "11. Update the $Q_{i}$ values by Eq. 24\n",
    "12. $s_{i}\\leftarrow s'_{i}$"
   ]
  },
  {
   "cell_type": "code",
   "execution_count": null,
   "metadata": {},
   "outputs": [
    {
     "name": "stdout",
     "output_type": "stream",
     "text": [
      "1      2      3\n"
     ]
    }
   ],
   "source": []
  }
 ],
 "metadata": {
  "kernelspec": {
   "display_name": "base",
   "language": "python",
   "name": "python3"
  },
  "language_info": {
   "codemirror_mode": {
    "name": "ipython",
    "version": 3
   },
   "file_extension": ".py",
   "mimetype": "text/x-python",
   "name": "python",
   "nbconvert_exporter": "python",
   "pygments_lexer": "ipython3",
   "version": "3.11.7"
  }
 },
 "nbformat": 4,
 "nbformat_minor": 2
}
